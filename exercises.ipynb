{
 "cells": [
  {
   "cell_type": "markdown",
   "id": "5ee9c43e",
   "metadata": {},
   "source": [
    "Write a program that generates a random number between 1 and 100. The user has to guess the number in a limited number of attempts. Provide feedback after each guess (higher, lower, or correct)"
   ]
  },
  {
   "cell_type": "code",
   "execution_count": 6,
   "id": "0a942478",
   "metadata": {},
   "outputs": [
    {
     "name": "stdout",
     "output_type": "stream",
     "text": [
      "Guess the number (1-100)! You have 10 tries.\n"
     ]
    },
    {
     "name": "stdout",
     "output_type": "stream",
     "text": [
      "Higher\n"
     ]
    }
   ],
   "source": [
    "import random\n",
    "\n",
    "number = random.randint(1, 100)\n",
    "attempts = 10\n",
    "\n",
    "print(\"Guess the number (1-100)! You have\", attempts, \"tries.\")\n",
    "\n",
    "\n",
    "guess = int(input(\"Enter your guess\"))\n",
    "\n",
    "if  guess == number:\n",
    "        print(\"Correct\")\n",
    "elif guess < number:\n",
    "          print(\"Lower\")\n",
    "elif guess > number:\n",
    "          print('Higher')\n",
    "else:\n",
    "        print('not even close bro')\n",
    "\n",
    "\n",
    "\n",
    "if attempts == 0:\n",
    "    print('Game over:', number)\n",
    "\n",
    "\n"
   ]
  },
  {
   "cell_type": "markdown",
   "id": "8d9d558f",
   "metadata": {},
   "source": [
    "Write a program that allows the user to enter two numbers and an operator (+, -, *, /) and perform the corresponding calculation. Use conditional statements to handle different operators"
   ]
  },
  {
   "cell_type": "code",
   "execution_count": 8,
   "id": "b3801012",
   "metadata": {},
   "outputs": [
    {
     "name": "stdout",
     "output_type": "stream",
     "text": [
      "result 134\n"
     ]
    }
   ],
   "source": [
    "num1 = int(input(\"Enter first number\"))\n",
    "operand = input(\"Enter operator\")\n",
    "num2 = int(input(\"Enter second number\"))\n",
    "\n",
    "if operand == \"+\":\n",
    "    result = num1 + num2\n",
    "elif operand == \"*\":\n",
    "    result = num1 * num2\n",
    "elif operand == \"-\":\n",
    "    result = num1 - num2\n",
    "elif operand == \"/\":\n",
    "    result = num1 / num2\n",
    "else:\n",
    "    result = \"kindly enter operator\"\n",
    "\n",
    "print(\"result\", result)\n"
   ]
  },
  {
   "cell_type": "markdown",
   "id": "370627a4",
   "metadata": {},
   "source": [
    "Write a program that uses a while loop to check if a number entered by the user is a prime number (divisible only by 1 and itself)."
   ]
  },
  {
   "cell_type": "code",
   "execution_count": 10,
   "id": "d7e4ec24",
   "metadata": {},
   "outputs": [
    {
     "name": "stdout",
     "output_type": "stream",
     "text": [
      "3 is a prime number.\n"
     ]
    }
   ],
   "source": [
    "num = int(input(\"Enter a number to check if it's prime: \"))\n",
    "is_prime = True\n",
    "\n",
    "if num <= 1:\n",
    "    is_prime = False\n",
    "else:\n",
    "    i = 2\n",
    "    while i < num:\n",
    "        if num % i == 0:\n",
    "            is_prime = False\n",
    "            break\n",
    "        i += 1\n",
    "\n",
    "if is_prime:\n",
    "    print(f\"{num} is a prime number.\")\n",
    "else:\n",
    "    print(f\"{num} is not a prime number.\")\n"
   ]
  },
  {
   "cell_type": "markdown",
   "id": "ce3bb004",
   "metadata": {},
   "source": [
    "Write a program that uses a for loop to print the multiplication table of a number entered by the user (up to a specified number of multiples)."
   ]
  },
  {
   "cell_type": "code",
   "execution_count": 11,
   "id": "45bbaf45",
   "metadata": {},
   "outputs": [
    {
     "name": "stdout",
     "output_type": "stream",
     "text": [
      "\n",
      "Multiplication Table of 56:\n",
      "\n",
      "56 x 1 = 56\n",
      "56 x 2 = 112\n"
     ]
    }
   ],
   "source": [
    "num = int(input(\"Enter a number to print its multiplication table: \"))\n",
    "limit = int(input(\"Enter how many multiples you want: \"))\n",
    "\n",
    "print(f\"\\nMultiplication Table of {num}:\\n\")\n",
    "for i in range(1, limit + 1):\n",
    "    print(f\"{num} x {i} = {num * i}\")\n"
   ]
  },
  {
   "cell_type": "markdown",
   "id": "8c93c462",
   "metadata": {},
   "source": [
    "Write a program that uses a for loop to calculate the sum of numbers from 1 to a given number entered by the user."
   ]
  },
  {
   "cell_type": "code",
   "execution_count": 12,
   "id": "c30654ea",
   "metadata": {},
   "outputs": [
    {
     "name": "stdout",
     "output_type": "stream",
     "text": [
      "Sum of numbers from 1 to 6 is 21.\n"
     ]
    }
   ],
   "source": [
    "n = int(input(\"Enter a number: \"))\n",
    "total = 0\n",
    "\n",
    "for i in range(1, n + 1):\n",
    "    total += i\n",
    "\n",
    "print(f\"Sum of numbers from 1 to {n} is {total}.\")\n"
   ]
  },
  {
   "cell_type": "markdown",
   "id": "c232a1ba",
   "metadata": {},
   "source": [
    "Write a program that uses a for loop to print a pattern of stars or characters like a triangle."
   ]
  },
  {
   "cell_type": "code",
   "execution_count": 13,
   "id": "56e8ab41",
   "metadata": {},
   "outputs": [
    {
     "name": "stdout",
     "output_type": "stream",
     "text": [
      "*\n",
      "**\n",
      "***\n",
      "****\n"
     ]
    }
   ],
   "source": [
    "rows = int(input(\"Enter the number of rows for the triangle pattern: \"))\n",
    "\n",
    "for i in range(1, rows + 1):\n",
    "    print(\"*\" * i)\n"
   ]
  }
 ],
 "metadata": {
  "kernelspec": {
   "display_name": "virtual",
   "language": "python",
   "name": "python3"
  },
  "language_info": {
   "codemirror_mode": {
    "name": "ipython",
    "version": 3
   },
   "file_extension": ".py",
   "mimetype": "text/x-python",
   "name": "python",
   "nbconvert_exporter": "python",
   "pygments_lexer": "ipython3",
   "version": "3.13.2"
  }
 },
 "nbformat": 4,
 "nbformat_minor": 5
}
