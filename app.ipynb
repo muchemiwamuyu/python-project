{
 "cells": [
  {
   "cell_type": "code",
   "execution_count": 2,
   "id": "551a3e31",
   "metadata": {},
   "outputs": [
    {
     "name": "stdout",
     "output_type": "stream",
     "text": [
      "5\n",
      "2\n"
     ]
    }
   ],
   "source": [
    "num = 3\n",
    "num2 = 2\n",
    "sum = num + num2\n",
    "print(sum)\n",
    "print(num2)"
   ]
  },
  {
   "cell_type": "code",
   "execution_count": 3,
   "id": "7e9796d0",
   "metadata": {},
   "outputs": [
    {
     "name": "stdout",
     "output_type": "stream",
     "text": [
      "hello world\n"
     ]
    }
   ],
   "source": [
    "print(\"hello world\")"
   ]
  },
  {
   "cell_type": "code",
   "execution_count": 17,
   "id": "c0733583",
   "metadata": {},
   "outputs": [
    {
     "name": "stdout",
     "output_type": "stream",
     "text": [
      "<class 'int'>\n",
      "<class 'float'>\n",
      "<class 'complex'>\n"
     ]
    }
   ],
   "source": [
    "x = 1\n",
    "print(type(x))\n",
    "\n",
    "y = 5.35\n",
    "print(type(y))\n",
    "\n",
    "z = 4 + 3j\n",
    "print(type(z))"
   ]
  },
  {
   "cell_type": "code",
   "execution_count": 15,
   "id": "c53fc302",
   "metadata": {},
   "outputs": [
    {
     "name": "stdout",
     "output_type": "stream",
     "text": [
      "John Doe\n",
      "John Doe\n",
      "Hi my name is John. \n",
      "<class 'str'>\n"
     ]
    }
   ],
   "source": [
    "first_name = 'John'\n",
    "last_name = 'Doe'\n",
    "full_name = first_name +  \" \" + last_name\n",
    "full_name2 = f\"{first_name} {last_name}\"\n",
    "message = f\"Hi my name is {first_name}. \"\n",
    "print(full_name)\n",
    "print(full_name2)\n",
    "print(message)\n",
    "print(type(first_name))"
   ]
  },
  {
   "cell_type": "code",
   "execution_count": 18,
   "id": "055bc84c",
   "metadata": {},
   "outputs": [
    {
     "name": "stdout",
     "output_type": "stream",
     "text": [
      "<class 'bool'>\n"
     ]
    }
   ],
   "source": [
    "isStudent = True\n",
    "print(type(isStudent))"
   ]
  },
  {
   "cell_type": "code",
   "execution_count": 22,
   "id": "bd8cef8f",
   "metadata": {},
   "outputs": [
    {
     "name": "stdout",
     "output_type": "stream",
     "text": [
      "['jane smith', 'John Doe', 'Bob the builder']\n",
      "<class 'list'>\n"
     ]
    }
   ],
   "source": [
    "my_list = ['jane smith', 'John Doe', 'Bob the builder']\n",
    "print(my_list)\n",
    "print(type(my_list))"
   ]
  },
  {
   "cell_type": "code",
   "execution_count": 21,
   "id": "edc5e69c",
   "metadata": {},
   "outputs": [
    {
     "name": "stdout",
     "output_type": "stream",
     "text": [
      "('jane smith', 'John Doe', 'Bob the builder')\n",
      "<class 'tuple'>\n"
     ]
    }
   ],
   "source": [
    "my_tuple = ('jane smith', 'John Doe', 'Bob the builder')\n",
    "print(my_tuple)\n",
    "print(type(my_tuple))"
   ]
  },
  {
   "cell_type": "code",
   "execution_count": 26,
   "id": "9d8edc5c",
   "metadata": {},
   "outputs": [
    {
     "name": "stdout",
     "output_type": "stream",
     "text": [
      "[0, 1, 2, 3, 4, 5, 6, 7, 8, 9, 10, 11, 12, 13, 14, 15, 16, 17, 18, 19, 20, 21, 22, 23, 24, 25, 26, 27, 28, 29, 30, 31, 32, 33, 34, 35, 36, 37, 38, 39, 40, 41, 42, 43, 44, 45, 46, 47, 48, 49]\n"
     ]
    }
   ],
   "source": [
    "my_range = range(50)\n",
    "print(list(my_range))"
   ]
  },
  {
   "cell_type": "code",
   "execution_count": 28,
   "id": "1382f83e",
   "metadata": {},
   "outputs": [
    {
     "name": "stdout",
     "output_type": "stream",
     "text": [
      "{'name': 'Joh doe'}\n",
      "<class 'dict'>\n"
     ]
    }
   ],
   "source": [
    "my_dict = {\n",
    "    \"name\": \"Joh doe\"\n",
    "}\n",
    "print(my_dict)\n",
    "print(type(my_dict))"
   ]
  },
  {
   "cell_type": "code",
   "execution_count": 30,
   "id": "b7498ab5",
   "metadata": {},
   "outputs": [
    {
     "name": "stdout",
     "output_type": "stream",
     "text": [
      "{'sugar', 'salt'}\n",
      "<class 'set'>\n"
     ]
    }
   ],
   "source": [
    "my_list = {'sugar', 'salt'}\n",
    "print(my_list)\n",
    "print(type(my_list))"
   ]
  },
  {
   "cell_type": "markdown",
   "id": "34cb1462",
   "metadata": {},
   "source": [
    "int"
   ]
  },
  {
   "cell_type": "code",
   "execution_count": 18,
   "id": "434d9009",
   "metadata": {},
   "outputs": [
    {
     "name": "stdout",
     "output_type": "stream",
     "text": [
      "13\n",
      "7\n",
      "30\n",
      "3.3333333333333335\n",
      "3\n",
      "1\n",
      "1000\n",
      "8.0\n",
      "3.141592653589793\n",
      "3\n",
      "4\n",
      "27.0\n",
      "50.66\n",
      "19\n",
      "1567.0\n"
     ]
    }
   ],
   "source": [
    "\n",
    "import math\n",
    "a = 10\n",
    "b = 3\n",
    "print(a + b)\n",
    "print(a - b)\n",
    "print(a * b)\n",
    "print(a / b)\n",
    "print(a // b)\n",
    "print(a % b)\n",
    "print(a ** b)\n",
    "\n",
    "print(math.sqrt(64))\n",
    "print(math.pi)\n",
    "print(math.floor(3.141592653589793))\n",
    "print(math.ceil(3.941592653589793))\n",
    "print(math.pow(3, 3))\n",
    "# print(math.pow(2, 3))\n",
    "print(round(50.6564, 2))\n",
    "print(abs(-19))\n",
    "print(float(1567))\n"
   ]
  },
  {
   "cell_type": "code",
   "execution_count": 20,
   "id": "adec5207",
   "metadata": {},
   "outputs": [
    {
     "name": "stdout",
     "output_type": "stream",
     "text": [
      "11.0\n"
     ]
    }
   ],
   "source": [
    "num1 = float(input(\"Enter first number: \")) \n",
    "num2 = float(input(\"Enter second number: \"))\n",
    "\n",
    "sum = num1 + num2\n",
    "print(sum)\n"
   ]
  },
  {
   "cell_type": "code",
   "execution_count": null,
   "id": "c29f5dc4",
   "metadata": {},
   "outputs": [
    {
     "name": "stdout",
     "output_type": "stream",
     "text": [
      "Hello, my name is edwin! and my age is 24\n"
     ]
    }
   ],
   "source": [
    "name = input(\"Enter your name\")\n",
    "age = int(input(\"Enter your age: \"))\n",
    "result = f\"Hello, my name is {name}, and my age is {age}!\"\n",
    "\n",
    "print(result)"
   ]
  },
  {
   "cell_type": "markdown",
   "id": "02239b67",
   "metadata": {},
   "source": [
    "str"
   ]
  },
  {
   "cell_type": "code",
   "execution_count": null,
   "id": "93650ad1",
   "metadata": {},
   "outputs": [],
   "source": []
  },
  {
   "cell_type": "code",
   "execution_count": 44,
   "id": "e5b4d8b4",
   "metadata": {},
   "outputs": [
    {
     "name": "stdout",
     "output_type": "stream",
     "text": [
      "HELLO PYTHON\n",
      "hello python\n",
      "Hello Python\n",
      "HELLO pYTHON\n",
      "True\n",
      "False\n",
      "True\n",
      "['red', ' blue', ' green', ' yellow']\n",
      "red &  blue &  green &  yellow\n"
     ]
    }
   ],
   "source": [
    "str1 = 'hello Python'\n",
    "print(str1.upper())\n",
    "print(str1.lower())\n",
    "print(str1.title())\n",
    "print(str1.swapcase())\n",
    "\n",
    "str2 = '12ab'\n",
    "str3 = \" \"\n",
    "print(str2.isalnum())\n",
    "print(str2.isalpha())\n",
    "print(str3.isspace())\n",
    "\n",
    "colors = \"red, blue, green, yellow\".split(\",\")\n",
    "joined = \" & \".join(colors)\n",
    "print(colors)\n",
    "print(joined)\n",
    "\n"
   ]
  },
  {
   "cell_type": "code",
   "execution_count": 50,
   "id": "a8057f9a",
   "metadata": {},
   "outputs": [
    {
     "name": "stdout",
     "output_type": "stream",
     "text": [
      "Hello there, \n",
      "How are you?\n"
     ]
    }
   ],
   "source": [
    "s = \"Hello there, \\nHow are you?\"\n",
    "print(s)"
   ]
  },
  {
   "cell_type": "markdown",
   "id": "30dff38e",
   "metadata": {},
   "source": [
    "exercises"
   ]
  },
  {
   "cell_type": "code",
   "execution_count": 51,
   "id": "39075312",
   "metadata": {},
   "outputs": [
    {
     "name": "stdout",
     "output_type": "stream",
     "text": [
      "Hello chuck\n"
     ]
    }
   ],
   "source": [
    "user = input(\"Enter your name: \")\n",
    "print(f\"Hello {user}\")"
   ]
  },
  {
   "cell_type": "code",
   "execution_count": 54,
   "id": "14be4a74",
   "metadata": {},
   "outputs": [
    {
     "name": "stdout",
     "output_type": "stream",
     "text": [
      "you will pay $301.5\n"
     ]
    }
   ],
   "source": [
    "hours = int(input(\"Enter Hours: \"))\n",
    "rate = float(input(\"Enter Rate: \"))\n",
    "calculation = hours * rate\n",
    "result = f\"you will pay ${calculation}\"\n",
    "print(result)"
   ]
  },
  {
   "cell_type": "code",
   "execution_count": 57,
   "id": "a5d48fd2",
   "metadata": {},
   "outputs": [
    {
     "name": "stdout",
     "output_type": "stream",
     "text": [
      "8\n",
      "<class 'int'>\n",
      "8.5\n",
      "<class 'float'>\n",
      "4.0\n",
      "<class 'float'>\n",
      "11\n",
      "<class 'int'>\n"
     ]
    }
   ],
   "source": [
    "width = 17\n",
    "height = 12.0\n",
    "\n",
    "box1 = width//2\n",
    "print(box1)\n",
    "print(type(box1))\n",
    "\n",
    "box2 = width/2.0\n",
    "print(box2)\n",
    "print(type(box2))\n",
    "\n",
    "box3 = height/3\n",
    "print(box3)\n",
    "print(type(box3))\n",
    "\n",
    "box4 = 1 + 2 * 5\n",
    "print(box4)\n",
    "print(type(box4))"
   ]
  },
  {
   "cell_type": "code",
   "execution_count": null,
   "id": "35c00264",
   "metadata": {},
   "outputs": [
    {
     "name": "stdout",
     "output_type": "stream",
     "text": [
      "56\n"
     ]
    },
    {
     "data": {
      "text/plain": [
       "True"
      ]
     },
     "execution_count": 60,
     "metadata": {},
     "output_type": "execute_result"
    }
   ],
   "source": [
    "temp = float(input(\"Enter any temperature\"))\n",
    "fahrenheit = int(temp)\n",
    "print(fahrenheit)\n",
    "\n"
   ]
  },
  {
   "cell_type": "markdown",
   "id": "cd14bc12",
   "metadata": {},
   "source": [
    "conditions"
   ]
  },
  {
   "cell_type": "code",
   "execution_count": 77,
   "id": "2218510c",
   "metadata": {},
   "outputs": [
    {
     "name": "stdout",
     "output_type": "stream",
     "text": [
      "x and y are equal\n"
     ]
    }
   ],
   "source": [
    "x = 5\n",
    "y = 5\n",
    "\n",
    "if x < y:\n",
    "    print('x is less than y')\n",
    "elif x > y:\n",
    "    print('x is greater that y')\n",
    "else:\n",
    "    print(\"x and y are equal\")"
   ]
  },
  {
   "cell_type": "code",
   "execution_count": 78,
   "id": "2e0d4e72",
   "metadata": {},
   "outputs": [
    {
     "name": "stdout",
     "output_type": "stream",
     "text": [
      "you guessed a which is correct\n"
     ]
    }
   ],
   "source": [
    "choice = \"a\"\n",
    "\n",
    "if choice == 'a':\n",
    "    print('you guessed a which is correct')\n",
    "elif choice == 'b':\n",
    "    print('bad choice')\n",
    "elif choice == 'c':\n",
    "    print('close, but not correct')"
   ]
  },
  {
   "cell_type": "code",
   "execution_count": 88,
   "id": "f987e967",
   "metadata": {},
   "outputs": [
    {
     "name": "stdout",
     "output_type": "stream",
     "text": [
      "you are an Adult\n"
     ]
    }
   ],
   "source": [
    "age = 50\n",
    "if age < 13:\n",
    "    print('You are a child')\n",
    "elif age < 20:\n",
    "    print('You are a teenager')\n",
    "else:\n",
    "    print('you are an Adult')"
   ]
  },
  {
   "cell_type": "code",
   "execution_count": 89,
   "id": "761b1ece",
   "metadata": {},
   "outputs": [
    {
     "name": "stdout",
     "output_type": "stream",
     "text": [
      "0\n",
      "1\n",
      "2\n",
      "3\n",
      "4\n",
      "5\n"
     ]
    }
   ],
   "source": [
    "for i in range(6):\n",
    "    print(i)"
   ]
  },
  {
   "cell_type": "code",
   "execution_count": 92,
   "id": "ccd923b0",
   "metadata": {},
   "outputs": [
    {
     "name": "stdout",
     "output_type": "stream",
     "text": [
      "time\n",
      "time\n",
      "time\n",
      "time\n"
     ]
    }
   ],
   "source": [
    "n = int(input('How many time to to say Kasongo'))\n",
    "for i in range(n):\n",
    "    print(\"time\")"
   ]
  },
  {
   "cell_type": "markdown",
   "id": "7a22452a",
   "metadata": {},
   "source": [
    "loops"
   ]
  },
  {
   "cell_type": "code",
   "execution_count": 93,
   "id": "5c0dad94",
   "metadata": {},
   "outputs": [
    {
     "name": "stdout",
     "output_type": "stream",
     "text": [
      "Access Granted!\n"
     ]
    }
   ],
   "source": [
    "password = \"\"\n",
    "while password != \"pass123#\":\n",
    "    password = input(\"enter password\")\n",
    "\n",
    "print('Access Granted!')"
   ]
  }
 ],
 "metadata": {
  "kernelspec": {
   "display_name": "virtual",
   "language": "python",
   "name": "python3"
  },
  "language_info": {
   "codemirror_mode": {
    "name": "ipython",
    "version": 3
   },
   "file_extension": ".py",
   "mimetype": "text/x-python",
   "name": "python",
   "nbconvert_exporter": "python",
   "pygments_lexer": "ipython3",
   "version": "3.13.2"
  }
 },
 "nbformat": 4,
 "nbformat_minor": 5
}
